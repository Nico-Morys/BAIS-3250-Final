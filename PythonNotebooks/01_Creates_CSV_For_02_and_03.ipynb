{
 "cells": [
  {
   "cell_type": "markdown",
   "id": "de1d765f-8919-45e3-8d26-97d0b2fe2562",
   "metadata": {},
   "source": [
    "### Jacob Kopec and Nico Morys"
   ]
  },
  {
   "cell_type": "markdown",
   "id": "f4aaf613-f03f-4bac-928a-2f2d535fd856",
   "metadata": {},
   "source": [
    "#### The purpose of this ipynb file is to create the merged dataframe and merged_df.csv that we used to answer our Question 1 and Question 2."
   ]
  },
  {
   "cell_type": "code",
   "execution_count": 6,
   "id": "b39560c6-86f5-4d9e-94dc-26aa2224c13d",
   "metadata": {},
   "outputs": [],
   "source": [
    "#imports pandas so we can use it\n",
    "import pandas as pd"
   ]
  },
  {
   "cell_type": "code",
   "execution_count": 7,
   "id": "07ad3cfd-326c-42ea-a619-cc2c753d3843",
   "metadata": {},
   "outputs": [],
   "source": [
    "#reads both the csv files in to separate data frames\n",
    "IMDbT1 = pd.read_csv('IMDbT1_raw.csv', encoding = 'utf-8')\n",
    "IMDbHG = pd.read_csv('IMDbHG_raw.csv', encoding = 'utf-8')"
   ]
  },
  {
   "cell_type": "code",
   "execution_count": 8,
   "id": "f01d122f-6731-4a1f-b5b4-19bd0e71710f",
   "metadata": {},
   "outputs": [],
   "source": [
    "#merges on the movie_name to get the respective gross earnings and movie name from df2\n",
    "merged_df = pd.merge(IMDbT1[['rank', 'movie_name']], IMDbHG[['movie_name', 'gross_earnings', 'director(s)']], on='movie_name', how='inner')\n",
    "\n",
    "#final data frame\n",
    "final_df = merged_df[['rank', 'movie_name', 'gross_earnings', 'director(s)']]\n",
    "\n",
    "final_df.to_csv('merged_df.csv', encoding = 'utf-8')"
   ]
  },
  {
   "cell_type": "code",
   "execution_count": 9,
   "id": "58bf492d-245f-4128-bad4-4958c8fd6746",
   "metadata": {},
   "outputs": [
    {
     "data": {
      "text/html": [
       "<div>\n",
       "<style scoped>\n",
       "    .dataframe tbody tr th:only-of-type {\n",
       "        vertical-align: middle;\n",
       "    }\n",
       "\n",
       "    .dataframe tbody tr th {\n",
       "        vertical-align: top;\n",
       "    }\n",
       "\n",
       "    .dataframe thead th {\n",
       "        text-align: right;\n",
       "    }\n",
       "</style>\n",
       "<table border=\"1\" class=\"dataframe\">\n",
       "  <thead>\n",
       "    <tr style=\"text-align: right;\">\n",
       "      <th></th>\n",
       "      <th>rank</th>\n",
       "      <th>movie_name</th>\n",
       "      <th>gross_earnings</th>\n",
       "      <th>director(s)</th>\n",
       "    </tr>\n",
       "  </thead>\n",
       "  <tbody>\n",
       "    <tr>\n",
       "      <th>0</th>\n",
       "      <td>2</td>\n",
       "      <td>The Godfather</td>\n",
       "      <td>250342198</td>\n",
       "      <td>Francis Ford Coppola</td>\n",
       "    </tr>\n",
       "    <tr>\n",
       "      <th>1</th>\n",
       "      <td>3</td>\n",
       "      <td>The Dark Knight</td>\n",
       "      <td>1009025676</td>\n",
       "      <td>Christopher Nolan</td>\n",
       "    </tr>\n",
       "    <tr>\n",
       "      <th>2</th>\n",
       "      <td>4</td>\n",
       "      <td>The Lord of the Rings: The Return of the King</td>\n",
       "      <td>1138027091</td>\n",
       "      <td>Peter Jackson</td>\n",
       "    </tr>\n",
       "    <tr>\n",
       "      <th>3</th>\n",
       "      <td>6</td>\n",
       "      <td>Schindler's List</td>\n",
       "      <td>322161245</td>\n",
       "      <td>Steven Spielberg</td>\n",
       "    </tr>\n",
       "    <tr>\n",
       "      <th>4</th>\n",
       "      <td>8</td>\n",
       "      <td>The Lord of the Rings: The Fellowship of the Ring</td>\n",
       "      <td>888120042</td>\n",
       "      <td>Peter Jackson</td>\n",
       "    </tr>\n",
       "    <tr>\n",
       "      <th>...</th>\n",
       "      <td>...</td>\n",
       "      <td>...</td>\n",
       "      <td>...</td>\n",
       "      <td>...</td>\n",
       "    </tr>\n",
       "    <tr>\n",
       "      <th>203</th>\n",
       "      <td>966</td>\n",
       "      <td>Minority Report</td>\n",
       "      <td>358372926</td>\n",
       "      <td>Steven Spielberg</td>\n",
       "    </tr>\n",
       "    <tr>\n",
       "      <th>204</th>\n",
       "      <td>968</td>\n",
       "      <td>Kung Fu Panda</td>\n",
       "      <td>632091832</td>\n",
       "      <td>Mark Osborne, John Stevenson</td>\n",
       "    </tr>\n",
       "    <tr>\n",
       "      <th>205</th>\n",
       "      <td>975</td>\n",
       "      <td>The Others</td>\n",
       "      <td>210002906</td>\n",
       "      <td>Alejandro Amenábar</td>\n",
       "    </tr>\n",
       "    <tr>\n",
       "      <th>206</th>\n",
       "      <td>977</td>\n",
       "      <td>Toy Story 4</td>\n",
       "      <td>1073841394</td>\n",
       "      <td>Josh Cooley</td>\n",
       "    </tr>\n",
       "    <tr>\n",
       "      <th>207</th>\n",
       "      <td>987</td>\n",
       "      <td>Ponyo</td>\n",
       "      <td>205916673</td>\n",
       "      <td>Hayao Miyazaki</td>\n",
       "    </tr>\n",
       "  </tbody>\n",
       "</table>\n",
       "<p>208 rows × 4 columns</p>\n",
       "</div>"
      ],
      "text/plain": [
       "     rank                                         movie_name  gross_earnings  \\\n",
       "0       2                                      The Godfather       250342198   \n",
       "1       3                                    The Dark Knight      1009025676   \n",
       "2       4      The Lord of the Rings: The Return of the King      1138027091   \n",
       "3       6                                   Schindler's List       322161245   \n",
       "4       8  The Lord of the Rings: The Fellowship of the Ring       888120042   \n",
       "..    ...                                                ...             ...   \n",
       "203   966                                    Minority Report       358372926   \n",
       "204   968                                      Kung Fu Panda       632091832   \n",
       "205   975                                         The Others       210002906   \n",
       "206   977                                        Toy Story 4      1073841394   \n",
       "207   987                                              Ponyo       205916673   \n",
       "\n",
       "                      director(s)  \n",
       "0            Francis Ford Coppola  \n",
       "1               Christopher Nolan  \n",
       "2                   Peter Jackson  \n",
       "3                Steven Spielberg  \n",
       "4                   Peter Jackson  \n",
       "..                            ...  \n",
       "203              Steven Spielberg  \n",
       "204  Mark Osborne, John Stevenson  \n",
       "205            Alejandro Amenábar  \n",
       "206                   Josh Cooley  \n",
       "207                Hayao Miyazaki  \n",
       "\n",
       "[208 rows x 4 columns]"
      ]
     },
     "metadata": {},
     "output_type": "display_data"
    }
   ],
   "source": [
    "#displays it here so I can look at it\n",
    "display(final_df)"
   ]
  }
 ],
 "metadata": {
  "kernelspec": {
   "display_name": "Python 3 (ipykernel)",
   "language": "python",
   "name": "python3"
  },
  "language_info": {
   "codemirror_mode": {
    "name": "ipython",
    "version": 3
   },
   "file_extension": ".py",
   "mimetype": "text/x-python",
   "name": "python",
   "nbconvert_exporter": "python",
   "pygments_lexer": "ipython3",
   "version": "3.11.7"
  }
 },
 "nbformat": 4,
 "nbformat_minor": 5
}
